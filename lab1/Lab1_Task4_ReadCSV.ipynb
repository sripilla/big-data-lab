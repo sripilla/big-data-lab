{
 "cells": [
  {
   "cell_type": "code",
   "execution_count": 1,
   "id": "fb459f5f-b7d2-4d71-815c-5e5a20c11ab8",
   "metadata": {},
   "outputs": [
    {
     "name": "stdout",
     "output_type": "stream",
     "text": [
      "+---+-------+---+\n",
      "| id|   name|age|\n",
      "+---+-------+---+\n",
      "|  1|  Alice| 23|\n",
      "|  2|    Bob| 30|\n",
      "|  3|Charlie| 28|\n",
      "+---+-------+---+\n",
      "\n",
      "root\n",
      " |-- id: integer (nullable = true)\n",
      " |-- name: string (nullable = true)\n",
      " |-- age: integer (nullable = true)\n",
      "\n"
     ]
    }
   ],
   "source": [
    "import os\n",
    "from pyspark.sql import SparkSession\n",
    "\n",
    "# Ensure Spark uses correct Python\n",
    "os.environ[\"PYSPARK_PYTHON\"] = r\"C:\\Users\\subba\\anaconda3\\envs\\bigdataenv\\python.exe\"\n",
    "os.environ[\"PYSPARK_DRIVER_PYTHON\"] = r\"C:\\Users\\subba\\anaconda3\\envs\\bigdataenv\\python.exe\"\n",
    "\n",
    "# Start Spark Session\n",
    "spark = SparkSession.builder \\\n",
    "    .appName(\"ReadCSVExample\") \\\n",
    "    .config(\"spark.driver.memory\", \"2g\") \\\n",
    "    .config(\"spark.python.worker.reuse\", \"false\") \\\n",
    "    .getOrCreate()\n",
    "\n",
    "# Load CSV file (from lab1 folder)\n",
    "df = spark.read.csv(\"sample.csv\", header=True, inferSchema=True)\n",
    "\n",
    "# Show first few rows\n",
    "df.show()\n",
    "\n",
    "# Print schema\n",
    "df.printSchema()\n",
    "\n",
    "spark.stop()\n"
   ]
  },
  {
   "cell_type": "code",
   "execution_count": null,
   "id": "028e17f4-2af0-4f5e-9c76-44760e866083",
   "metadata": {},
   "outputs": [],
   "source": []
  }
 ],
 "metadata": {
  "kernelspec": {
   "display_name": "Python 3 (ipykernel)",
   "language": "python",
   "name": "python3"
  },
  "language_info": {
   "codemirror_mode": {
    "name": "ipython",
    "version": 3
   },
   "file_extension": ".py",
   "mimetype": "text/x-python",
   "name": "python",
   "nbconvert_exporter": "python",
   "pygments_lexer": "ipython3",
   "version": "3.10.18"
  }
 },
 "nbformat": 4,
 "nbformat_minor": 5
}
