{
 "cells": [
  {
   "cell_type": "code",
   "execution_count": 1,
   "id": "5e4c07dd-63bf-48a8-82fd-e711ed7c4de6",
   "metadata": {},
   "outputs": [],
   "source": [
    "import os\n",
    "\n",
    "# Force PySpark to use your Anaconda Python\n",
    "os.environ[\"PYSPARK_PYTHON\"] = r\"C:\\Users\\subba\\anaconda3\\envs\\bigdataenv\\python.exe\"\n",
    "os.environ[\"PYSPARK_DRIVER_PYTHON\"] = r\"C:\\Users\\subba\\anaconda3\\envs\\bigdataenv\\python.exe\"\n"
   ]
  },
  {
   "cell_type": "code",
   "execution_count": 2,
   "id": "b5dce52f-3064-464b-8822-6982c414f06b",
   "metadata": {},
   "outputs": [],
   "source": [
    "from pyspark.sql import SparkSession\n",
    "\n",
    "spark = SparkSession.builder \\\n",
    "    .appName(\"FindMaximumNumberRDD\") \\\n",
    "    .config(\"spark.driver.memory\", \"2g\") \\\n",
    "    .config(\"spark.python.worker.reuse\", \"false\") \\\n",
    "    .getOrCreate()\n",
    "\n",
    "sc = spark.sparkContext\n"
   ]
  },
  {
   "cell_type": "code",
   "execution_count": 3,
   "id": "cb5b59c7-73eb-4cd1-87a1-aae2f0ade4dc",
   "metadata": {},
   "outputs": [
    {
     "name": "stdout",
     "output_type": "stream",
     "text": [
      "Numbers: [10, 45, 67, 23, 89, 12, 5]\n",
      "Maximum number (RDD): 89\n"
     ]
    }
   ],
   "source": [
    "numbers = [10, 45, 67, 23, 89, 12, 5]\n",
    "rdd = sc.parallelize(numbers)\n",
    "\n",
    "max_number = rdd.reduce(lambda a, b: a if a > b else b)\n",
    "\n",
    "print(\"Numbers:\", numbers)\n",
    "print(\"Maximum number (RDD):\", max_number)\n",
    "\n",
    "spark.stop()\n"
   ]
  },
  {
   "cell_type": "code",
   "execution_count": null,
   "id": "5a3ba041-7d46-44f6-aba9-170ce437f098",
   "metadata": {},
   "outputs": [],
   "source": []
  }
 ],
 "metadata": {
  "kernelspec": {
   "display_name": "Python (bigdataenv)",
   "language": "python",
   "name": "bigdataenv"
  },
  "language_info": {
   "codemirror_mode": {
    "name": "ipython",
    "version": 3
   },
   "file_extension": ".py",
   "mimetype": "text/x-python",
   "name": "python",
   "nbconvert_exporter": "python",
   "pygments_lexer": "ipython3",
   "version": "3.10.18"
  }
 },
 "nbformat": 4,
 "nbformat_minor": 5
}
