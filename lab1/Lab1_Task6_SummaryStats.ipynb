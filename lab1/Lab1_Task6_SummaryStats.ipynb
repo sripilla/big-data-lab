{
 "cells": [
  {
   "cell_type": "code",
   "execution_count": 1,
   "id": "3fb9a38f-852b-424e-bc96-ebe0402945bb",
   "metadata": {},
   "outputs": [
    {
     "name": "stdout",
     "output_type": "stream",
     "text": [
      "✅ Original Data:\n",
      "+---+-------+---+\n",
      "| id|   name|age|\n",
      "+---+-------+---+\n",
      "|  1|  Alice| 23|\n",
      "|  2|    Bob| 30|\n",
      "|  3|Charlie| 28|\n",
      "+---+-------+---+\n",
      "\n",
      "\n",
      "✅ Summary Statistics:\n",
      "+-------+---+-------+-----------------+\n",
      "|summary| id|   name|              age|\n",
      "+-------+---+-------+-----------------+\n",
      "|  count|  3|      3|                3|\n",
      "|   mean|2.0|   null|             27.0|\n",
      "| stddev|1.0|   null|3.605551275463989|\n",
      "|    min|  1|  Alice|               23|\n",
      "|    max|  3|Charlie|               30|\n",
      "+-------+---+-------+-----------------+\n",
      "\n"
     ]
    }
   ],
   "source": [
    "import os\n",
    "from pyspark.sql import SparkSession\n",
    "\n",
    "# Ensure Spark uses correct Python\n",
    "os.environ[\"PYSPARK_PYTHON\"] = r\"C:\\Users\\subba\\anaconda3\\envs\\bigdataenv\\python.exe\"\n",
    "os.environ[\"PYSPARK_DRIVER_PYTHON\"] = r\"C:\\Users\\subba\\anaconda3\\envs\\bigdataenv\\python.exe\"\n",
    "\n",
    "# Start Spark Session\n",
    "spark = SparkSession.builder \\\n",
    "    .appName(\"SummaryStatistics\") \\\n",
    "    .config(\"spark.driver.memory\", \"2g\") \\\n",
    "    .config(\"spark.python.worker.reuse\", \"false\") \\\n",
    "    .getOrCreate()\n",
    "\n",
    "# Read the CSV file (from lab1)\n",
    "df = spark.read.csv(\"sample.csv\", header=True, inferSchema=True)\n",
    "\n",
    "# Show the data for reference\n",
    "print(\"✅ Original Data:\")\n",
    "df.show()\n",
    "\n",
    "# Calculate summary statistics for all columns\n",
    "print(\"\\n✅ Summary Statistics:\")\n",
    "df.describe().show()\n",
    "\n",
    "spark.stop()\n"
   ]
  },
  {
   "cell_type": "code",
   "execution_count": null,
   "id": "ef0df7a1-1911-4403-be28-d0de04553556",
   "metadata": {},
   "outputs": [],
   "source": []
  }
 ],
 "metadata": {
  "kernelspec": {
   "display_name": "Python 3 (ipykernel)",
   "language": "python",
   "name": "python3"
  },
  "language_info": {
   "codemirror_mode": {
    "name": "ipython",
    "version": 3
   },
   "file_extension": ".py",
   "mimetype": "text/x-python",
   "name": "python",
   "nbconvert_exporter": "python",
   "pygments_lexer": "ipython3",
   "version": "3.10.18"
  }
 },
 "nbformat": 4,
 "nbformat_minor": 5
}
