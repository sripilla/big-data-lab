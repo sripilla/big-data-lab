{
 "cells": [
  {
   "cell_type": "code",
   "execution_count": 1,
   "id": "5360cbf1-1f8f-4f5c-ad65-ea00b451db84",
   "metadata": {},
   "outputs": [
    {
     "name": "stdout",
     "output_type": "stream",
     "text": [
      "+----------+\n",
      "|avg(value)|\n",
      "+----------+\n",
      "|      30.0|\n",
      "+----------+\n",
      "\n"
     ]
    }
   ],
   "source": [
    "import os\n",
    "from pyspark.sql import SparkSession\n",
    "from pyspark.sql.functions import avg\n",
    "\n",
    "# Ensure Spark uses correct Python\n",
    "os.environ[\"PYSPARK_PYTHON\"] = r\"C:\\Users\\subba\\anaconda3\\envs\\bigdataenv\\python.exe\"\n",
    "os.environ[\"PYSPARK_DRIVER_PYTHON\"] = r\"C:\\Users\\subba\\anaconda3\\envs\\bigdataenv\\python.exe\"\n",
    "\n",
    "# Start Spark Session\n",
    "spark = SparkSession.builder \\\n",
    "    .appName(\"AverageDF\") \\\n",
    "    .config(\"spark.driver.memory\", \"2g\") \\\n",
    "    .config(\"spark.python.worker.reuse\", \"false\") \\\n",
    "    .getOrCreate()\n",
    "\n",
    "# Create DataFrame\n",
    "data = [(10,), (20,), (30,), (40,), (50,)]\n",
    "df = spark.createDataFrame(data, [\"value\"])\n",
    "\n",
    "# Calculate average using DataFrame API\n",
    "df.select(avg(\"value\")).show()\n",
    "\n",
    "spark.stop()\n"
   ]
  },
  {
   "cell_type": "code",
   "execution_count": null,
   "id": "8a7299a5-cd94-43de-b182-5ffd95fd28e1",
   "metadata": {},
   "outputs": [],
   "source": []
  }
 ],
 "metadata": {
  "kernelspec": {
   "display_name": "Python (bigdataenv)",
   "language": "python",
   "name": "bigdataenv"
  },
  "language_info": {
   "codemirror_mode": {
    "name": "ipython",
    "version": 3
   },
   "file_extension": ".py",
   "mimetype": "text/x-python",
   "name": "python",
   "nbconvert_exporter": "python",
   "pygments_lexer": "ipython3",
   "version": "3.10.18"
  }
 },
 "nbformat": 4,
 "nbformat_minor": 5
}
