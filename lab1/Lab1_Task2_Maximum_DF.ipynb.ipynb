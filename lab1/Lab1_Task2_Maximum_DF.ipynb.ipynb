{
 "cells": [
  {
   "cell_type": "code",
   "execution_count": 1,
   "id": "a37ddfc1-cf8a-4a06-833a-7424f30aef11",
   "metadata": {},
   "outputs": [
    {
     "name": "stdout",
     "output_type": "stream",
     "text": [
      "+----------+\n",
      "|max(value)|\n",
      "+----------+\n",
      "|        89|\n",
      "+----------+\n",
      "\n"
     ]
    }
   ],
   "source": [
    "import os\n",
    "from pyspark.sql import SparkSession\n",
    "\n",
    "# ✅ Ensure Spark uses correct Python (bigdataenv)\n",
    "os.environ[\"PYSPARK_PYTHON\"] = r\"C:\\Users\\subba\\anaconda3\\envs\\bigdataenv\\python.exe\"\n",
    "os.environ[\"PYSPARK_DRIVER_PYTHON\"] = r\"C:\\Users\\subba\\anaconda3\\envs\\bigdataenv\\python.exe\"\n",
    "\n",
    "# Step 1: Start Spark Session\n",
    "spark = SparkSession.builder \\\n",
    "    .appName(\"FindMaximumNumberDF\") \\\n",
    "    .config(\"spark.driver.memory\", \"2g\") \\\n",
    "    .config(\"spark.python.worker.reuse\", \"false\") \\\n",
    "    .getOrCreate()\n",
    "\n",
    "# Step 2: Create a DataFrame from a list of numbers\n",
    "data = [(10,), (45,), (67,), (23,), (89,), (12,), (5,)]\n",
    "df = spark.createDataFrame(data, [\"value\"])\n",
    "\n",
    "# Step 3: Use aggregation to find maximum\n",
    "df.agg({\"value\": \"max\"}).show()\n",
    "\n",
    "# Step 4: Stop Spark Session\n",
    "spark.stop()\n"
   ]
  },
  {
   "cell_type": "code",
   "execution_count": null,
   "id": "d4fadad8-a623-4a3f-8be1-a062771e67bb",
   "metadata": {},
   "outputs": [],
   "source": []
  }
 ],
 "metadata": {
  "kernelspec": {
   "display_name": "Python (bigdataenv)",
   "language": "python",
   "name": "bigdataenv"
  },
  "language_info": {
   "codemirror_mode": {
    "name": "ipython",
    "version": 3
   },
   "file_extension": ".py",
   "mimetype": "text/x-python",
   "name": "python",
   "nbconvert_exporter": "python",
   "pygments_lexer": "ipython3",
   "version": "3.10.18"
  }
 },
 "nbformat": 4,
 "nbformat_minor": 5
}
