{
 "cells": [
  {
   "cell_type": "code",
   "execution_count": 2,
   "id": "d558185d-6443-4390-913b-0acbaa08d4f7",
   "metadata": {},
   "outputs": [
    {
     "name": "stdout",
     "output_type": "stream",
     "text": [
      "Numbers: [10, 20, 30, 40, 50]\n",
      "Average (RDD): 30.0\n"
     ]
    }
   ],
   "source": [
    "import os\n",
    "from pyspark.sql import SparkSession\n",
    "\n",
    "# Ensure Spark uses correct Python\n",
    "os.environ[\"PYSPARK_PYTHON\"] = r\"C:\\Users\\subba\\anaconda3\\envs\\bigdataenv\\python.exe\"\n",
    "os.environ[\"PYSPARK_DRIVER_PYTHON\"] = r\"C:\\Users\\subba\\anaconda3\\envs\\bigdataenv\\python.exe\"\n",
    "\n",
    "# Start Spark Session\n",
    "spark = SparkSession.builder \\\n",
    "    .appName(\"AverageRDD\") \\\n",
    "    .config(\"spark.driver.memory\", \"2g\") \\\n",
    "    .config(\"spark.python.worker.reuse\", \"false\") \\\n",
    "    .getOrCreate()\n",
    "\n",
    "sc = spark.sparkContext\n",
    "\n",
    "# Input numbers\n",
    "numbers = [10, 20, 30, 40, 50]\n",
    "\n",
    "# Create RDD\n",
    "rdd = sc.parallelize(numbers)\n",
    "\n",
    "# Find sum and count\n",
    "total = rdd.reduce(lambda a, b: a + b)\n",
    "count = rdd.count()\n",
    "\n",
    "average = total / count\n",
    "\n",
    "print(\"Numbers:\", numbers)\n",
    "print(\"Average (RDD):\", average)\n",
    "\n",
    "spark.stop()\n"
   ]
  },
  {
   "cell_type": "code",
   "execution_count": null,
   "id": "73dc5bd6-7da4-49a3-b63f-afac3c05c951",
   "metadata": {},
   "outputs": [],
   "source": []
  }
 ],
 "metadata": {
  "kernelspec": {
   "display_name": "Python (bigdataenv)",
   "language": "python",
   "name": "bigdataenv"
  },
  "language_info": {
   "codemirror_mode": {
    "name": "ipython",
    "version": 3
   },
   "file_extension": ".py",
   "mimetype": "text/x-python",
   "name": "python",
   "nbconvert_exporter": "python",
   "pygments_lexer": "ipython3",
   "version": "3.10.18"
  }
 },
 "nbformat": 4,
 "nbformat_minor": 5
}
