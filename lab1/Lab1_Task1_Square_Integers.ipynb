{
 "cells": [
  {
   "cell_type": "markdown",
   "id": "1f550727",
   "metadata": {},
   "source": [
    "# 🔢 Lab 1 Task 1: Square a Set of Integers using PySpark\n",
    "In this notebook, we use PySpark RDD to square a set of integers."
   ]
  },
  {
   "cell_type": "code",
   "execution_count": 1,
   "id": "78609846",
   "metadata": {},
   "outputs": [],
   "source": [
    "# Step 1: Import required modules\n",
    "import os\n",
    "from pyspark.sql import SparkSession"
   ]
  },
  {
   "cell_type": "code",
   "execution_count": 2,
   "id": "9479c26e",
   "metadata": {},
   "outputs": [],
   "source": [
    "# Step 2: Set the correct Python path (update if needed)\n",
    "os.environ[\"PYSPARK_PYTHON\"] = r\"C:\\\\Users\\\\subba\\\\anaconda3\\\\envs\\\\bigdataenv\\\\python.exe\"\n",
    "os.environ[\"PYSPARK_DRIVER_PYTHON\"] = r\"C:\\\\Users\\\\subba\\\\anaconda3\\\\envs\\\\bigdataenv\\\\python.exe\""
   ]
  },
  {
   "cell_type": "code",
   "execution_count": 3,
   "id": "b3dc5995",
   "metadata": {},
   "outputs": [
    {
     "name": "stderr",
     "output_type": "stream",
     "text": [
      "----------------------------------------\n",
      "Exception occurred during processing of request from ('127.0.0.1', 55122)\n",
      "Traceback (most recent call last):\n",
      "  File \"C:\\Users\\subba\\anaconda3\\envs\\bigdataenv\\lib\\socketserver.py\", line 316, in _handle_request_noblock\n",
      "    self.process_request(request, client_address)\n",
      "  File \"C:\\Users\\subba\\anaconda3\\envs\\bigdataenv\\lib\\socketserver.py\", line 347, in process_request\n",
      "    self.finish_request(request, client_address)\n",
      "  File \"C:\\Users\\subba\\anaconda3\\envs\\bigdataenv\\lib\\socketserver.py\", line 360, in finish_request\n",
      "    self.RequestHandlerClass(request, client_address, self)\n",
      "  File \"C:\\Users\\subba\\anaconda3\\envs\\bigdataenv\\lib\\socketserver.py\", line 747, in __init__\n",
      "    self.handle()\n",
      "  File \"C:\\Users\\subba\\anaconda3\\envs\\bigdataenv\\lib\\site-packages\\pyspark\\accumulators.py\", line 281, in handle\n",
      "    poll(accum_updates)\n",
      "  File \"C:\\Users\\subba\\anaconda3\\envs\\bigdataenv\\lib\\site-packages\\pyspark\\accumulators.py\", line 253, in poll\n",
      "    if func():\n",
      "  File \"C:\\Users\\subba\\anaconda3\\envs\\bigdataenv\\lib\\site-packages\\pyspark\\accumulators.py\", line 257, in accum_updates\n",
      "    num_updates = read_int(self.rfile)\n",
      "  File \"C:\\Users\\subba\\anaconda3\\envs\\bigdataenv\\lib\\site-packages\\pyspark\\serializers.py\", line 594, in read_int\n",
      "    length = stream.read(4)\n",
      "  File \"C:\\Users\\subba\\anaconda3\\envs\\bigdataenv\\lib\\socket.py\", line 717, in readinto\n",
      "    return self._sock.recv_into(b)\n",
      "ConnectionResetError: [WinError 10054] An existing connection was forcibly closed by the remote host\n",
      "----------------------------------------\n"
     ]
    }
   ],
   "source": [
    "# Step 3: Start Spark Session\n",
    "spark = SparkSession.builder \\\n",
    "    .appName(\"Square Integers\") \\\n",
    "    .config(\"spark.driver.memory\", \"2g\") \\\n",
    "    .config(\"spark.python.worker.reuse\", \"false\") \\\n",
    "    .getOrCreate()\n",
    "\n",
    "sc = spark.sparkContext  # Get the Spark Context from SparkSession"
   ]
  },
  {
   "cell_type": "code",
   "execution_count": 4,
   "id": "0b8d9a58",
   "metadata": {},
   "outputs": [
    {
     "name": "stdout",
     "output_type": "stream",
     "text": [
      "Original numbers: [1, 2, 3, 4, 5]\n",
      "Squared numbers: [1, 4, 9, 16, 25]\n"
     ]
    }
   ],
   "source": [
    "# Step 4: Create an RDD and square each element\n",
    "numbers = [1, 2, 3, 4, 5]\n",
    "rdd = sc.parallelize(numbers)\n",
    "squared_rdd = rdd.map(lambda x: x * x)\n",
    "\n",
    "print(\"Original numbers:\", numbers)\n",
    "print(\"Squared numbers:\", squared_rdd.collect())"
   ]
  },
  {
   "cell_type": "code",
   "execution_count": null,
   "id": "b67083ec-4128-4289-aeb5-1dc65dfdac51",
   "metadata": {},
   "outputs": [],
   "source": []
  }
 ],
 "metadata": {
  "kernelspec": {
   "display_name": "Python 3 (ipykernel)",
   "language": "python",
   "name": "python3"
  },
  "language_info": {
   "codemirror_mode": {
    "name": "ipython",
    "version": 3
   },
   "file_extension": ".py",
   "mimetype": "text/x-python",
   "name": "python",
   "nbconvert_exporter": "python",
   "pygments_lexer": "ipython3",
   "version": "3.10.18"
  }
 },
 "nbformat": 4,
 "nbformat_minor": 5
}
