{
 "cells": [
  {
   "cell_type": "code",
   "execution_count": 1,
   "id": "b67d02e3-3f03-4b64-957b-4f7e6f2ecf79",
   "metadata": {},
   "outputs": [
    {
     "name": "stdout",
     "output_type": "stream",
     "text": [
      "✅ WordCount Results (DataFrame):\n",
      "+-------+-----+\n",
      "|   word|count|\n",
      "+-------+-----+\n",
      "|  hello|    2|\n",
      "|  world|    1|\n",
      "|  spark|    2|\n",
      "|    lab|    1|\n",
      "|   data|    1|\n",
      "|    big|    1|\n",
      "|example|    1|\n",
      "|  count|    1|\n",
      "|   word|    1|\n",
      "+-------+-----+\n",
      "\n"
     ]
    }
   ],
   "source": [
    "from pyspark.sql import SparkSession\n",
    "from pyspark.sql.functions import explode, split, col\n",
    "\n",
    "# Initialize Spark\n",
    "spark = SparkSession.builder.appName(\"WordCountDF\").getOrCreate()\n",
    "\n",
    "# --- Sample text data ---\n",
    "data = [(\"hello world\",), (\"hello spark\",), (\"big data lab\",), (\"spark word count example\",)]\n",
    "df = spark.createDataFrame(data, [\"line\"])\n",
    "\n",
    "# Split lines into words, explode into rows\n",
    "words = df.select(explode(split(col(\"line\"), \" \")).alias(\"word\"))\n",
    "\n",
    "# Group by word and count\n",
    "word_counts_df = words.groupBy(\"word\").count()\n",
    "\n",
    "print(\"✅ WordCount Results (DataFrame):\")\n",
    "word_counts_df.show()\n",
    "\n",
    "spark.stop()\n"
   ]
  },
  {
   "cell_type": "code",
   "execution_count": null,
   "id": "8a944a2c-ef2b-4316-ad8f-907a55d25cc9",
   "metadata": {},
   "outputs": [],
   "source": []
  }
 ],
 "metadata": {
  "kernelspec": {
   "display_name": "Python (bigdataenv)",
   "language": "python",
   "name": "bigdataenv"
  },
  "language_info": {
   "codemirror_mode": {
    "name": "ipython",
    "version": 3
   },
   "file_extension": ".py",
   "mimetype": "text/x-python",
   "name": "python",
   "nbconvert_exporter": "python",
   "pygments_lexer": "ipython3",
   "version": "3.10.18"
  }
 },
 "nbformat": 4,
 "nbformat_minor": 5
}
