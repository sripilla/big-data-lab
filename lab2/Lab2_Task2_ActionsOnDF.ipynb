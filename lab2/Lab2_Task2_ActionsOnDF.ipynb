{
 "cells": [
  {
   "cell_type": "code",
   "execution_count": 1,
   "id": "94743a96-f0a8-4233-9f56-fd99eee91006",
   "metadata": {},
   "outputs": [
    {
     "name": "stdout",
     "output_type": "stream",
     "text": [
      "✅ Full DataFrame (Action: show)\n",
      "+---+-------+---+\n",
      "| id|   name|age|\n",
      "+---+-------+---+\n",
      "|  1|  Alice| 23|\n",
      "|  2|    Bob| 30|\n",
      "|  3|Charlie| 28|\n",
      "|  4|  David| 35|\n",
      "+---+-------+---+\n",
      "\n",
      "\n",
      "✅ First 2 rows (Action: show(n))\n",
      "+---+-----+---+\n",
      "| id| name|age|\n",
      "+---+-----+---+\n",
      "|  1|Alice| 23|\n",
      "|  2|  Bob| 30|\n",
      "+---+-----+---+\n",
      "only showing top 2 rows\n",
      "\n",
      "\n",
      "✅ Number of rows in DataFrame (Action: count)\n",
      "Row count: 4\n",
      "\n",
      "✅ Collect all rows into Python list (Action: collect)\n",
      "Row(id=1, name='Alice', age=23)\n",
      "Row(id=2, name='Bob', age=30)\n",
      "Row(id=3, name='Charlie', age=28)\n",
      "Row(id=4, name='David', age=35)\n"
     ]
    }
   ],
   "source": [
    "import os\n",
    "from pyspark.sql import SparkSession\n",
    "\n",
    "# Ensure Spark uses correct Python (bigdataenv)\n",
    "os.environ[\"PYSPARK_PYTHON\"] = r\"C:\\Users\\subba\\anaconda3\\envs\\bigdataenv\\python.exe\"\n",
    "os.environ[\"PYSPARK_DRIVER_PYTHON\"] = r\"C:\\Users\\subba\\anaconda3\\envs\\bigdataenv\\python.exe\"\n",
    "\n",
    "# Start Spark Session\n",
    "spark = SparkSession.builder \\\n",
    "    .appName(\"ActionsOnDataFrame\") \\\n",
    "    .config(\"spark.driver.memory\", \"2g\") \\\n",
    "    .config(\"spark.python.worker.reuse\", \"false\") \\\n",
    "    .getOrCreate()\n",
    "\n",
    "# Create sample DataFrame\n",
    "data = [\n",
    "    (1, \"Alice\", 23),\n",
    "    (2, \"Bob\", 30),\n",
    "    (3, \"Charlie\", 28),\n",
    "    (4, \"David\", 35)\n",
    "]\n",
    "columns = [\"id\", \"name\", \"age\"]\n",
    "\n",
    "df = spark.createDataFrame(data, columns)\n",
    "\n",
    "print(\"✅ Full DataFrame (Action: show)\")\n",
    "df.show()\n",
    "\n",
    "print(\"\\n✅ First 2 rows (Action: show(n))\")\n",
    "df.show(2)\n",
    "\n",
    "print(\"\\n✅ Number of rows in DataFrame (Action: count)\")\n",
    "print(\"Row count:\", df.count())\n",
    "\n",
    "print(\"\\n✅ Collect all rows into Python list (Action: collect)\")\n",
    "rows = df.collect()\n",
    "for row in rows:\n",
    "    print(row)\n",
    "\n",
    "spark.stop()\n"
   ]
  },
  {
   "cell_type": "code",
   "execution_count": null,
   "id": "8cc4307b-be98-483d-85d5-4e9754ee04f1",
   "metadata": {},
   "outputs": [],
   "source": []
  }
 ],
 "metadata": {
  "kernelspec": {
   "display_name": "Python (bigdataenv)",
   "language": "python",
   "name": "bigdataenv"
  },
  "language_info": {
   "codemirror_mode": {
    "name": "ipython",
    "version": 3
   },
   "file_extension": ".py",
   "mimetype": "text/x-python",
   "name": "python",
   "nbconvert_exporter": "python",
   "pygments_lexer": "ipython3",
   "version": "3.10.18"
  }
 },
 "nbformat": 4,
 "nbformat_minor": 5
}
