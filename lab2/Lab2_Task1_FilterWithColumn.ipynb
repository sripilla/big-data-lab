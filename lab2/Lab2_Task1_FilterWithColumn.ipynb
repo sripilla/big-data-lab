{
 "cells": [
  {
   "cell_type": "code",
   "execution_count": 1,
   "id": "9bb97c8d-a611-4630-bca3-122ec94b2730",
   "metadata": {},
   "outputs": [
    {
     "name": "stdout",
     "output_type": "stream",
     "text": [
      "✅ Original DataFrame:\n",
      "+---+-------+---+\n",
      "| id|   name|age|\n",
      "+---+-------+---+\n",
      "|  1|  Alice| 23|\n",
      "|  2|    Bob| 30|\n",
      "|  3|Charlie| 17|\n",
      "|  4|  David| 40|\n",
      "+---+-------+---+\n",
      "\n",
      "✅ Filtered DataFrame (age > 20):\n",
      "+---+-----+---+\n",
      "| id| name|age|\n",
      "+---+-----+---+\n",
      "|  1|Alice| 23|\n",
      "|  2|  Bob| 30|\n",
      "|  4|David| 40|\n",
      "+---+-----+---+\n",
      "\n",
      "✅ Transformed DataFrame with new column 'isAdult':\n",
      "+---+-------+---+-------+\n",
      "| id|   name|age|isAdult|\n",
      "+---+-------+---+-------+\n",
      "|  1|  Alice| 23|    Yes|\n",
      "|  2|    Bob| 30|    Yes|\n",
      "|  3|Charlie| 17|     No|\n",
      "|  4|  David| 40|    Yes|\n",
      "+---+-------+---+-------+\n",
      "\n"
     ]
    }
   ],
   "source": [
    "import os\n",
    "from pyspark.sql import SparkSession\n",
    "from pyspark.sql.functions import col, when\n",
    "\n",
    "# Ensure Spark uses correct Python\n",
    "os.environ[\"PYSPARK_PYTHON\"] = r\"C:\\Users\\subba\\anaconda3\\envs\\bigdataenv\\python.exe\"\n",
    "os.environ[\"PYSPARK_DRIVER_PYTHON\"] = r\"C:\\Users\\subba\\anaconda3\\envs\\bigdataenv\\python.exe\"\n",
    "\n",
    "# Start Spark Session\n",
    "spark = SparkSession.builder \\\n",
    "    .appName(\"FilterAndWithColumnExample\") \\\n",
    "    .config(\"spark.driver.memory\", \"2g\") \\\n",
    "    .config(\"spark.python.worker.reuse\", \"false\") \\\n",
    "    .getOrCreate()\n",
    "\n",
    "# Create sample DataFrame\n",
    "data = [\n",
    "    (1, \"Alice\", 23),\n",
    "    (2, \"Bob\", 30),\n",
    "    (3, \"Charlie\", 17),\n",
    "    (4, \"David\", 40)\n",
    "]\n",
    "columns = [\"id\", \"name\", \"age\"]\n",
    "\n",
    "df = spark.createDataFrame(data, columns)\n",
    "\n",
    "print(\"✅ Original DataFrame:\")\n",
    "df.show()\n",
    "\n",
    "# Apply filter: only people older than 20\n",
    "filtered_df = df.filter(col(\"age\") > 20)\n",
    "\n",
    "print(\"✅ Filtered DataFrame (age > 20):\")\n",
    "filtered_df.show()\n",
    "\n",
    "# Apply withColumn: add a new column 'isAdult'\n",
    "# If age >= 18 → 'Yes', else 'No'\n",
    "transformed_df = df.withColumn(\"isAdult\", when(col(\"age\") >= 18, \"Yes\").otherwise(\"No\"))\n",
    "\n",
    "print(\"✅ Transformed DataFrame with new column 'isAdult':\")\n",
    "transformed_df.show()\n",
    "\n",
    "spark.stop()\n"
   ]
  },
  {
   "cell_type": "code",
   "execution_count": null,
   "id": "c079e0c3-2354-43ac-84e0-f557dbaa5547",
   "metadata": {},
   "outputs": [],
   "source": []
  }
 ],
 "metadata": {
  "kernelspec": {
   "display_name": "Python 3 (ipykernel)",
   "language": "python",
   "name": "python3"
  },
  "language_info": {
   "codemirror_mode": {
    "name": "ipython",
    "version": 3
   },
   "file_extension": ".py",
   "mimetype": "text/x-python",
   "name": "python",
   "nbconvert_exporter": "python",
   "pygments_lexer": "ipython3",
   "version": "3.10.18"
  }
 },
 "nbformat": 4,
 "nbformat_minor": 5
}
