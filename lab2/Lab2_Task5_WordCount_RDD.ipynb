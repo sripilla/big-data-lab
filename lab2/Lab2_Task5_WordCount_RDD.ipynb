{
 "cells": [
  {
   "cell_type": "code",
   "execution_count": 1,
   "id": "cbac185d-f603-46d7-9e24-df07cb0a8d9b",
   "metadata": {},
   "outputs": [
    {
     "name": "stdout",
     "output_type": "stream",
     "text": [
      "✅ WordCount Results (RDD):\n",
      "spark: 2\n",
      "lab: 1\n",
      "data: 1\n",
      "count: 1\n",
      "big: 1\n",
      "example: 1\n",
      "hello: 2\n",
      "word: 1\n",
      "world: 1\n"
     ]
    }
   ],
   "source": [
    "from pyspark.sql import SparkSession\n",
    "\n",
    "# Initialize Spark\n",
    "spark = SparkSession.builder.appName(\"WordCountRDD\").getOrCreate()\n",
    "sc = spark.sparkContext\n",
    "\n",
    "# --- Sample text data ---\n",
    "text = [\"hello world\", \"hello spark\", \"big data lab\", \"spark word count example\"]\n",
    "\n",
    "# Parallelize data into RDD\n",
    "rdd = sc.parallelize(text)\n",
    "\n",
    "# Split each line into words, map each word to (word, 1), then reduce by key\n",
    "word_counts = (rdd.flatMap(lambda line: line.split(\" \"))\n",
    "                  .map(lambda word: (word, 1))\n",
    "                  .reduceByKey(lambda a, b: a + b))\n",
    "\n",
    "# Collect and print results\n",
    "print(\"✅ WordCount Results (RDD):\")\n",
    "for word, count in word_counts.collect():\n",
    "    print(f\"{word}: {count}\")\n",
    "\n",
    "spark.stop()\n"
   ]
  },
  {
   "cell_type": "code",
   "execution_count": null,
   "id": "8bb8aaa7-54dd-426a-a60b-08667b60547d",
   "metadata": {},
   "outputs": [],
   "source": []
  }
 ],
 "metadata": {
  "kernelspec": {
   "display_name": "Python (bigdataenv)",
   "language": "python",
   "name": "bigdataenv"
  },
  "language_info": {
   "codemirror_mode": {
    "name": "ipython",
    "version": 3
   },
   "file_extension": ".py",
   "mimetype": "text/x-python",
   "name": "python",
   "nbconvert_exporter": "python",
   "pygments_lexer": "ipython3",
   "version": "3.10.18"
  }
 },
 "nbformat": 4,
 "nbformat_minor": 5
}
