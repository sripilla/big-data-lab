{
 "cells": [
  {
   "cell_type": "code",
   "execution_count": 1,
   "id": "93754dbd-4541-4768-9af4-598dde69a926",
   "metadata": {},
   "outputs": [
    {
     "name": "stdout",
     "output_type": "stream",
     "text": [
      "✅ Original DataFrame:\n",
      "+-------+---+----------+\n",
      "|   name|age|department|\n",
      "+-------+---+----------+\n",
      "|  Alice| 23|        HR|\n",
      "|    Bob| 30|        IT|\n",
      "|Charlie| 28|        IT|\n",
      "|  David| 35|        HR|\n",
      "|    Eva| 40|   Finance|\n",
      "+-------+---+----------+\n",
      "\n",
      "\n",
      "✅ Calculate SUM and AVERAGE of 'age':\n",
      "+---------+-----------+\n",
      "|total_age|average_age|\n",
      "+---------+-----------+\n",
      "|      156|       31.2|\n",
      "+---------+-----------+\n",
      "\n",
      "\n",
      "✅ Average age per department:\n",
      "+----------+-------+\n",
      "|department|avg_age|\n",
      "+----------+-------+\n",
      "|        HR|   29.0|\n",
      "|        IT|   29.0|\n",
      "|   Finance|   40.0|\n",
      "+----------+-------+\n",
      "\n"
     ]
    }
   ],
   "source": [
    "import os\n",
    "from pyspark.sql import SparkSession\n",
    "from pyspark.sql.functions import sum, avg, min, max\n",
    "\n",
    "# Ensure Spark uses correct Python (bigdataenv)\n",
    "os.environ[\"PYSPARK_PYTHON\"] = r\"C:\\Users\\subba\\anaconda3\\envs\\bigdataenv\\python.exe\"\n",
    "os.environ[\"PYSPARK_DRIVER_PYTHON\"] = r\"C:\\Users\\subba\\anaconda3\\envs\\bigdataenv\\python.exe\"\n",
    "\n",
    "# Start Spark Session\n",
    "spark = SparkSession.builder \\\n",
    "    .appName(\"BasicAggregations\") \\\n",
    "    .config(\"spark.driver.memory\", \"2g\") \\\n",
    "    .config(\"spark.python.worker.reuse\", \"false\") \\\n",
    "    .getOrCreate()\n",
    "\n",
    "# Sample DataFrame\n",
    "data = [\n",
    "    (\"Alice\", 23, \"HR\"),\n",
    "    (\"Bob\", 30, \"IT\"),\n",
    "    (\"Charlie\", 28, \"IT\"),\n",
    "    (\"David\", 35, \"HR\"),\n",
    "    (\"Eva\", 40, \"Finance\")\n",
    "]\n",
    "columns = [\"name\", \"age\", \"department\"]\n",
    "\n",
    "df = spark.createDataFrame(data, columns)\n",
    "\n",
    "print(\"✅ Original DataFrame:\")\n",
    "df.show()\n",
    "\n",
    "# --- Aggregations ---\n",
    "print(\"\\n✅ Calculate SUM and AVERAGE of 'age':\")\n",
    "df.agg(\n",
    "    sum(\"age\").alias(\"total_age\"),\n",
    "    avg(\"age\").alias(\"average_age\")\n",
    ").show()\n",
    "\n",
    "# --- Grouped Aggregations ---\n",
    "print(\"\\n✅ Average age per department:\")\n",
    "df.groupBy(\"department\").agg(\n",
    "    avg(\"age\").alias(\"avg_age\")\n",
    ").show()\n",
    "\n",
    "spark.stop()\n"
   ]
  },
  {
   "cell_type": "code",
   "execution_count": null,
   "id": "dc351ad3-7795-4def-8403-5f18a563c533",
   "metadata": {},
   "outputs": [],
   "source": []
  }
 ],
 "metadata": {
  "kernelspec": {
   "display_name": "Python (bigdataenv)",
   "language": "python",
   "name": "bigdataenv"
  },
  "language_info": {
   "codemirror_mode": {
    "name": "ipython",
    "version": 3
   },
   "file_extension": ".py",
   "mimetype": "text/x-python",
   "name": "python",
   "nbconvert_exporter": "python",
   "pygments_lexer": "ipython3",
   "version": "3.10.18"
  }
 },
 "nbformat": 4,
 "nbformat_minor": 5
}
