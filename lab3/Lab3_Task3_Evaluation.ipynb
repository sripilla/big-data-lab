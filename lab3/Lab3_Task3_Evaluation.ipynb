{
 "cells": [
  {
   "cell_type": "code",
   "execution_count": null,
   "id": "2782119e-e35f-4a24-b4d2-379688b6b4f6",
   "metadata": {},
   "outputs": [],
   "source": [
    "from pyspark.sql import SparkSession\n",
    "\n",
    "# --- Step 1: Initialize Spark ---\n",
    "spark = SparkSession.builder.appName(\"Lab3_Task3_Evaluation\").getOrCreate()\n",
    "sc = spark.sparkContext\n",
    "\n",
    "# --- Step 2: Define True Matches (Ground Truth) ---\n",
    "# Example: (id1, id2) are the true duplicates\n",
    "true_matches = [\n",
    "    (1, 5),   # alice smith = alice smith\n",
    "    (3, 4)    # charlie johnson ≈ david johnson\n",
    "]\n",
    "true_rdd = sc.parallelize(true_matches)\n",
    "\n",
    "# --- Step 3: Define Predicted Matches (Model Output) ---\n",
    "predicted_matches = [\n",
    "    (1, 5),   # correct prediction\n",
    "    (1, 2),   # false positive\n",
    "    (3, 4)    # correct prediction\n",
    "]\n",
    "pred_rdd = sc.parallelize(predicted_matches)\n",
    "\n",
    "# --- Step 4: Compute True Positives (TP), False Positives (FP), False Negatives (FN) ---\n",
    "TP = pred_rdd.intersection(true_rdd).count()\n",
    "FP = pred_rdd.subtract(true_rdd).count()\n",
    "FN = true_rdd.subtract(pred_rdd).count()\n",
    "\n",
    "# --- Step 5: Compute Metrics ---\n",
    "precision = TP / (TP + FP) if (TP + FP) > 0 else 0\n",
    "recall = TP / (TP + FN) if (TP + FN) > 0 else 0\n",
    "f1_score = (2 * precision * recall) / (precision + recall) if (precision + recall) > 0 else 0\n",
    "\n",
    "# --- Step 6: Print Results ---\n",
    "print(\"✅ Evaluation Metrics for Entity Resolution Model:\")\n",
    "print(f\"True Positives (TP): {TP}\")\n",
    "print(f\"False Positives (FP): {FP}\")\n",
    "print(f\"False Negatives (FN): {FN}\")\n",
    "print(f\"Precision: {precision:.2f}\")\n",
    "print(f\"Recall: {recall:.2f}\")\n",
    "print(f\"F1-Score: {f1_score:.2f}\")\n",
    "\n",
    "# --- Step 7: Stop Spark ---\n",
    "spark.stop()\n"
   ]
  }
 ],
 "metadata": {
  "kernelspec": {
   "display_name": "Python (bigdataenv)",
   "language": "python",
   "name": "bigdataenv"
  },
  "language_info": {
   "codemirror_mode": {
    "name": "ipython",
    "version": 3
   },
   "file_extension": ".py",
   "mimetype": "text/x-python",
   "name": "python",
   "nbconvert_exporter": "python",
   "pygments_lexer": "ipython3",
   "version": "3.10.18"
  }
 },
 "nbformat": 4,
 "nbformat_minor": 5
}
